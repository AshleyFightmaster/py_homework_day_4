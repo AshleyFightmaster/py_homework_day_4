{
 "cells": [
  {
   "cell_type": "markdown",
   "metadata": {},
   "source": [
    "# Object-Oriented-Programming (OOP)"
   ]
  },
  {
   "cell_type": "markdown",
   "metadata": {},
   "source": [
    "## Tasks Today:\n",
    "\n",
    "   \n",
    "\n",
    "1) <b>Creating a Class (Initializing/Declaring)</b> <br>\n",
    "2) <b>Using a Class (Instantiating)</b> <br>\n",
    " &nbsp;&nbsp;&nbsp;&nbsp; a) Creating One Instance <br>\n",
    " &nbsp;&nbsp;&nbsp;&nbsp; b) Creating Multiple Instances <br>\n",
    " &nbsp;&nbsp;&nbsp;&nbsp; c) In-Class Exercise #1 - Create a Class 'Car' and instantiate three different makes of cars <br>\n",
    "3) <b>The \\__init\\__() Method</b> <br>\n",
    " &nbsp;&nbsp;&nbsp;&nbsp; a) The 'self' Attribute <br>\n",
    "4) <b>Class Attributes</b> <br>\n",
    " &nbsp;&nbsp;&nbsp;&nbsp; a) Initializing Attributes <br>\n",
    " &nbsp;&nbsp;&nbsp;&nbsp; b) Setting an Attribute Outside of the \\__init\\__() Method <br>\n",
    " &nbsp;&nbsp;&nbsp;&nbsp; c) Setting Defaults for Attributes <br>\n",
    " &nbsp;&nbsp;&nbsp;&nbsp; d) Accessing Class Attributes <br>\n",
    " &nbsp;&nbsp;&nbsp;&nbsp; e) Changing Class Attributes <br>\n",
    " &nbsp;&nbsp;&nbsp;&nbsp; f) In-Class Exercise #2 - Add a color and wheels attribute to your 'Car' class <br>\n",
    "5) <b>Class Methods</b> <br>\n",
    " &nbsp;&nbsp;&nbsp;&nbsp; a) Creating <br>\n",
    " &nbsp;&nbsp;&nbsp;&nbsp; b) Calling <br>\n",
    " &nbsp;&nbsp;&nbsp;&nbsp; c) Modifying an Attribute's Value Through a Method <br>\n",
    " &nbsp;&nbsp;&nbsp;&nbsp; d) Incrementing an Attribute's Value Through a Method <br>\n",
    " &nbsp;&nbsp;&nbsp;&nbsp; e) In-Class Exercise #3 - Add a method that prints the cars color and wheel number, then call them <br>\n",
    "6) <b>Inheritance</b> <br>\n",
    " &nbsp;&nbsp;&nbsp;&nbsp; a) Syntax for Inheriting from a Parent Class <br>\n",
    " &nbsp;&nbsp;&nbsp;&nbsp; b) The \\__init\\__() Method for a Child Class (super()) <br>\n",
    " &nbsp;&nbsp;&nbsp;&nbsp; c) Defining Attributes and Methods for the Child Class <br>\n",
    " &nbsp;&nbsp;&nbsp;&nbsp; d) Method Overriding <br>\n",
    " &nbsp;&nbsp;&nbsp;&nbsp; e) In-Class Exercise #4 - Create a class 'Ford' that inherits from 'Car' class and initialize it as a Blue Ford Explorer with 4 wheels using the super() method <br>\n",
    "7) <b>Classes as Attributes</b> <br>\n",
    "8) <b>Exercises</b> <br>\n",
    " &nbsp;&nbsp;&nbsp;&nbsp; a) Exercise #1 - Turn the shopping cart program from yesterday into an object-oriented program <br>"
   ]
  },
  {
   "cell_type": "markdown",
   "metadata": {},
   "source": [
    "## Creating a Class (Initializing/Declaring)\n",
    "<p>When creating a class, function, or even a variable you are initializing that object. Initializing and Declaring occur at the same time in Python, whereas in lower level languages you have to declare an object before initializing it. This is the first step in the process of using a class.</p>"
   ]
  },
  {
   "cell_type": "code",
   "execution_count": null,
   "metadata": {},
   "outputs": [],
   "source": [
    "class Car(): # class name is Title case, not snake or camel case\n",
    "    wheels = 4\n",
    "    color = 'blue'\n",
    "    \n",
    "nissan = Car()\n",
    "nissan.color # will give me blue\n"
   ]
  },
  {
   "cell_type": "markdown",
   "metadata": {},
   "source": [
    "## Using a Class (Instantiating)\n",
    "<p>The process of creating a class is called <i>Instantiating</i>. Each time you create a variable of that type of class, it is referred to as an <i>Instance</i> of that class. This is the second step in the process of using a class.</p>"
   ]
  },
  {
   "cell_type": "markdown",
   "metadata": {},
   "source": [
    "##### Creating One Instance"
   ]
  },
  {
   "cell_type": "code",
   "execution_count": null,
   "metadata": {},
   "outputs": [],
   "source": [
    "ford = Car()"
   ]
  },
  {
   "cell_type": "markdown",
   "metadata": {},
   "source": [
    "##### Creating Multiple Instances"
   ]
  },
  {
   "cell_type": "code",
   "execution_count": null,
   "metadata": {},
   "outputs": [],
   "source": [
    "class Car(): # class name is Title case, not snake or camel case\n",
    "    wheels = 4\n",
    "    color = 'blue'\n",
    "\n",
    "toyota = Car()\n",
    "chevy = Car()\n",
    "dodge = Car()"
   ]
  },
  {
   "cell_type": "markdown",
   "metadata": {},
   "source": [
    "##### In-Class Exercise #1 - Create a Class 'Car' and Instantiate three different makes of cars"
   ]
  },
  {
   "cell_type": "code",
   "execution_count": null,
   "metadata": {},
   "outputs": [],
   "source": [
    "class = Car():\n",
    "    wheels = 4\n",
    "    color = 'red'\n",
    "    doors = '2'\n",
    "    \n",
    "kia = Car()\n",
    "toyota = Car()\n",
    "saturn = Car()"
   ]
  },
  {
   "cell_type": "markdown",
   "metadata": {},
   "source": [
    "## The \\__init\\__() Method <br>\n",
    "<p>This method is used in almost every created class, and called only once upon the creation of the class instance. This method will initialize all variables needed for the object.</p>"
   ]
  },
  {
   "cell_type": "code",
   "execution_count": null,
   "metadata": {},
   "outputs": [],
   "source": [
    "class Car():\n",
    "    wheels = 4 # class attribute does not need to be included in the instance attribute\n",
    "    def __init__(self, make, model, year): # SELF keyword is refering to the instance object, \"nissan\" # also know as a constructor method\n",
    "        self.make = make # instance attribute\n",
    "        self.model = model # instance attribute\n",
    "        self.year = year # instance attribute\n",
    " # think of nissan.make == self.make in previous example   \n",
    "nissan = Car('nissan', '400z', 2023) # 'nissan' is going to self.make = make etc.\n",
    "toyota = Car('Toyota', 'Camry', 2013) # this action is called  \"Instantiating\"\n",
    "\n",
    "\n",
    "print(nissan.year)"
   ]
  },
  {
   "cell_type": "markdown",
   "metadata": {},
   "source": [
    "##### The 'self' Attribute <br>\n",
    "<p>This attribute is required to keep track of specific instance's attributes. Without the self attribute, the program would not know how to reference or keep track of an instance's attributes.</p>"
   ]
  },
  {
   "cell_type": "code",
   "execution_count": null,
   "metadata": {},
   "outputs": [],
   "source": [
    "# see above"
   ]
  },
  {
   "cell_type": "markdown",
   "metadata": {},
   "source": [
    "## Class Attributes <br>\n",
    "<p>While variables are inside of a class, they are referred to as attributes and not variables. When someone says 'attribute' you know they're speaking about a class. Attributes can be initialized through the init method, or outside of it.</p>"
   ]
  },
  {
   "cell_type": "markdown",
   "metadata": {},
   "source": [
    "##### Initializing Attributes"
   ]
  },
  {
   "cell_type": "code",
   "execution_count": null,
   "metadata": {},
   "outputs": [],
   "source": [
    "# see above"
   ]
  },
  {
   "cell_type": "markdown",
   "metadata": {},
   "source": [
    "##### Accessing Class Attributes"
   ]
  },
  {
   "cell_type": "code",
   "execution_count": null,
   "metadata": {
    "scrolled": true
   },
   "outputs": [],
   "source": [
    "# See Above"
   ]
  },
  {
   "cell_type": "markdown",
   "metadata": {},
   "source": [
    "##### Setting Defaults for Attributes"
   ]
  },
  {
   "cell_type": "code",
   "execution_count": null,
   "metadata": {},
   "outputs": [],
   "source": [
    "class NflTeams():\n",
    "    def __init__(self, city, name, country='america'):\n",
    "        self.city = city\n",
    "        self.name = name\n",
    "        self.country = country\n",
    "        \n",
    "broncos = NflTeams('Denver', 'Broncos')\n",
    "seahawks = NflTeams('Seattle', 'Seahawks', 'Germany')\n",
    "\n",
    "seahawks.country\n",
    "\n",
    "broncos.__dict__ # showing the instance in a class\n",
    "\n",
    "broncos.city = 'Cheyenne'\n",
    "\n",
    "broncos.city"
   ]
  },
  {
   "cell_type": "markdown",
   "metadata": {},
   "source": [
    "##### Changing Class Attributes <br>\n",
    "<p>Keep in mind there are global class attributes and then there are attributes only available to each class instance which won't effect other classes.</p>"
   ]
  },
  {
   "cell_type": "code",
   "execution_count": null,
   "metadata": {},
   "outputs": [],
   "source": [
    "# see above "
   ]
  },
  {
   "cell_type": "code",
   "execution_count": null,
   "metadata": {},
   "outputs": [],
   "source": []
  },
  {
   "cell_type": "markdown",
   "metadata": {},
   "source": [
    "##### In-Class Exercise #2 - Add a doors and seats attribute to your 'Car' class then print out two different instances with different doors and seats"
   ]
  },
  {
   "cell_type": "code",
   "execution_count": null,
   "metadata": {},
   "outputs": [],
   "source": [
    "class Cars():\n",
    "    def __init__(self, doors, seats):\n",
    "        self.doors = doors\n",
    "        self.seats = seats\n",
    "toyota = Cars(4,6)\n",
    "kia = Cars(2, 5)\n",
    "\n",
    "print(toyota.doors, toyota.seats)\n",
    "print(toyota.seats)\n",
    "print(kia.doors)\n",
    "print(kia.seats)\n"
   ]
  },
  {
   "cell_type": "markdown",
   "metadata": {},
   "source": [
    "## Class Methods <br>\n",
    "<p>While inside of a class, functions are referred to as 'methods'. If you hear someone mention methods, they're speaking about classes. Methods are essentially functions, but only callable on the instances of a class.</p>"
   ]
  },
  {
   "cell_type": "markdown",
   "metadata": {},
   "source": [
    "##### Creating"
   ]
  },
  {
   "cell_type": "code",
   "execution_count": null,
   "metadata": {},
   "outputs": [],
   "source": [
    "class NbaTeam():\n",
    "    def __init__(self, city, name):\n",
    "        self.city = city\n",
    "        self.name = name\n",
    "        self.depth_chart = {}\n",
    "        self.number_of_players = 0\n",
    "    \n",
    "    def add_player(self): #method\n",
    "        name = input('What is the name of the player? ').title()\n",
    "        number = input('What is the jersey number of {name}? ')\n",
    "        self.depth_chart[name] = number\n",
    "        self.number_of_players += 1\n",
    "        print(f'{name} was add to the {self.city} {self.name}!')\n",
    "        \n",
    "    def remove_player(self):\n",
    "        name = input('What player would you like to remove? ').title()\n",
    "        if name in self.depth_chart:\n",
    "            print(f'{name} was removed from the {self.city} {self.name}!')          \n",
    "            del self.depth_chart[name]\n",
    "            self.number_of_players -= 1\n",
    "        else:\n",
    "            print('Player does not exist on this team.')\n",
    "    \n",
    "    def show_players(self):\n",
    "        print('----------- Current Roster for the {self.city} {self.name} ----------')\n",
    "        print(f'Number of players: {self.number_of_players}')\n",
    "        for k,v in self.depth_chart.items():\n",
    "            print(k,v)\n",
    "    def runner(self):\n",
    "        while True:\n",
    "            user_choice = input('What would you like to do? (add, remove, show or quit)').lower()\n",
    "            if user_choice == 'add':\n",
    "                self.add_player()\n",
    "            elif user_choice == 'remove':\n",
    "                self.remove_player()\n",
    "            elif user_choice == 'show':\n",
    "                self.show_players()\n",
    "            elif user_choice == 'quit':\n",
    "                self.show_players()\n",
    "                print('Good luck this Season!')\n",
    "                break\n",
    "            else:\n",
    "                print('Invalid choice, please try again...')\n",
    "    \n",
    "    \n",
    "lakers = NbaTeam('LA', 'Lakers')\n",
    "nets = NbaTeam('Brooklyn', 'Nets')\n",
    "\n",
    "# lakers.add_player()\n",
    "# lakers.show_players()\n",
    "lakers.runner()\n"
   ]
  },
  {
   "cell_type": "markdown",
   "metadata": {},
   "source": [
    "##### Calling"
   ]
  },
  {
   "cell_type": "code",
   "execution_count": null,
   "metadata": {},
   "outputs": [],
   "source": [
    "# See Above"
   ]
  },
  {
   "cell_type": "markdown",
   "metadata": {},
   "source": [
    "##### Modifying an Attribute's Value Through a Method"
   ]
  },
  {
   "cell_type": "code",
   "execution_count": null,
   "metadata": {},
   "outputs": [],
   "source": [
    "# see above"
   ]
  },
  {
   "cell_type": "markdown",
   "metadata": {},
   "source": [
    "##### Incrementing an Attribute's Value Through a Method"
   ]
  },
  {
   "cell_type": "code",
   "execution_count": null,
   "metadata": {},
   "outputs": [],
   "source": [
    "# see above"
   ]
  },
  {
   "cell_type": "markdown",
   "metadata": {},
   "source": [
    "##### In-Class Exercise #3 - Add a method that takes in three parameters of year, doors and seats and prints out a formatted print statement with make, model, year, seats, and doors"
   ]
  },
  {
   "cell_type": "code",
   "execution_count": 5,
   "metadata": {},
   "outputs": [
    {
     "name": "stdout",
     "output_type": "stream",
     "text": [
      "This car is from 2023 and is a nissan 400z and has 2 doors and 2 seats.\n"
     ]
    }
   ],
   "source": [
    "# Create class with 2 paramters inside of the __init__ which are make and model\n",
    "\n",
    "# Inside of the Car class create a method that has 4 parameter in total (self,year,door,seats)\n",
    "\n",
    "# Output: This car is from 2019 and is a Ford Expolorer and has 4 doors and 5 seats\n",
    "\n",
    "# class Cars():\n",
    "#     def __init__ (self, wheels, model):\n",
    "#         self.wheels = wheels\n",
    "#         self.model = model\n",
    "    \n",
    "#     def __init__(self, year, doors, seats):\n",
    "#         self.year = {}\n",
    "#         self.doors = {}\n",
    "#         self.seats = {}\n",
    "        \n",
    "#     def add_year(self):\n",
    "#         year = input('What is the year of your car? ')\n",
    "#         self.year = year\n",
    "        \n",
    "#     def add_doors(self):\n",
    "#         doors = input('How many doors are on your car? ')\n",
    "#         self.doors = doors\n",
    "        \n",
    "#     def add_seats(self):\n",
    "#         seats = input('How many seats are in your car? ')\n",
    "#         self.seats = seats\n",
    "        \n",
    "# print(f'Your car is a {self.year} with {self.doors} doors, and {self.seats} seats.')\n",
    "\n",
    "# toyota = Cars('4', '4runner')\n",
    "# kia = Cars('4', 'sorento')\n",
    "\n",
    "# toyota.runner()\n",
    "\n",
    "class Car():\n",
    "    def __init__(self, make, model):\n",
    "        self.make = make\n",
    "        self.model = model\n",
    "        \n",
    "    def create_car(self, year, door, seats):\n",
    "        print(f'This car is from {year} and is a {self.make} {self.model} and has {door} doors and {seats} seats.')\n",
    "        \n",
    "nissan = Car('nissan', '400z')\n",
    "\n",
    "nissan.create_car(2023, 2, 2)"
   ]
  },
  {
   "cell_type": "markdown",
   "metadata": {},
   "source": [
    "## Inheritance <br>\n",
    "<p>You can create a child-parent relationship between two classes by using inheritance. What this allows you to do is have overriding methods, but also inherit traits from the parent class. Think of it as an actual parent and child, the child will inherit the parent's genes, as will the classes in OOP</p>"
   ]
  },
  {
   "cell_type": "markdown",
   "metadata": {},
   "source": [
    "##### Syntax for Inheriting from a Parent Class"
   ]
  },
  {
   "cell_type": "code",
   "execution_count": 10,
   "metadata": {},
   "outputs": [
    {
     "name": "stdout",
     "output_type": "stream",
     "text": [
      "signed in.\n",
      "signed in.\n"
     ]
    }
   ],
   "source": [
    "class User(): # parent class\n",
    "    def __init__(self, name, email):\n",
    "        self.name = name\n",
    "        self.email = email\n",
    "    def sign_in(self):\n",
    "        print('signed in.')\n",
    "class Warrior(User): #child class\n",
    "    def _init__(self, name, email):\n",
    "        super().__init__(name, email) # coping from first __init__ name and ability attribute \n",
    "class Archer(User): # child class\n",
    "    pass\n",
    "\n",
    "# archer1 = Archer()\n",
    "\n",
    "# warrior1.sign_in()\n",
    "# archer1.sign_in()\n",
    "\n",
    "user1 = User('ashley', 'ashley@gmail.com')\n",
    "warrior1 = Warrior('christopher', 'c@gmail.com')"
   ]
  },
  {
   "cell_type": "markdown",
   "metadata": {},
   "source": [
    "##### The \\__init\\__() Method for a Child Class - super()"
   ]
  },
  {
   "cell_type": "code",
   "execution_count": null,
   "metadata": {
    "scrolled": true
   },
   "outputs": [],
   "source": []
  },
  {
   "cell_type": "markdown",
   "metadata": {},
   "source": [
    "##### Defining Attributes and Methods for the Child Class"
   ]
  },
  {
   "cell_type": "code",
   "execution_count": null,
   "metadata": {},
   "outputs": [],
   "source": [
    "# See Above"
   ]
  },
  {
   "cell_type": "markdown",
   "metadata": {},
   "source": [
    "##### Method Overriding"
   ]
  },
  {
   "cell_type": "code",
   "execution_count": null,
   "metadata": {},
   "outputs": [],
   "source": [
    "# See Above"
   ]
  },
  {
   "cell_type": "markdown",
   "metadata": {},
   "source": [
    "## Classes as Attributes <br>\n",
    "<p>Classes can also be used as attributes within another class. This is useful in situations where you need to keep variables locally stored, instead of globally stored.</p>"
   ]
  },
  {
   "cell_type": "code",
   "execution_count": 13,
   "metadata": {},
   "outputs": [
    {
     "ename": "TypeError",
     "evalue": "__init__() takes 4 positional arguments but 5 were given",
     "output_type": "error",
     "traceback": [
      "\u001b[1;31m---------------------------------------------------------------------------\u001b[0m",
      "\u001b[1;31mTypeError\u001b[0m                                 Traceback (most recent call last)",
      "\u001b[1;32m~\\AppData\\Local\\Temp\\ipykernel_17036\\681770318.py\u001b[0m in \u001b[0;36m<module>\u001b[1;34m\u001b[0m\n\u001b[0;32m     19\u001b[0m \u001b[0muser1\u001b[0m \u001b[1;33m=\u001b[0m \u001b[0mUser\u001b[0m\u001b[1;33m(\u001b[0m\u001b[1;34m'ashley'\u001b[0m\u001b[1;33m,\u001b[0m \u001b[1;34m'ashley@gmail.com'\u001b[0m\u001b[1;33m,\u001b[0m \u001b[1;34m'shout'\u001b[0m\u001b[1;33m)\u001b[0m\u001b[1;33m\u001b[0m\u001b[1;33m\u001b[0m\u001b[0m\n\u001b[0;32m     20\u001b[0m \u001b[1;33m\u001b[0m\u001b[0m\n\u001b[1;32m---> 21\u001b[1;33m \u001b[0mwarrior1\u001b[0m \u001b[1;33m=\u001b[0m \u001b[0mWarrior\u001b[0m\u001b[1;33m(\u001b[0m\u001b[1;34m'Kratos'\u001b[0m\u001b[1;33m,\u001b[0m \u001b[1;34m'kratos@gmail.com'\u001b[0m\u001b[1;33m,\u001b[0m \u001b[1;34m'rage'\u001b[0m\u001b[1;33m,\u001b[0m \u001b[0muser1\u001b[0m\u001b[1;33m)\u001b[0m\u001b[1;33m\u001b[0m\u001b[1;33m\u001b[0m\u001b[0m\n\u001b[0m\u001b[0;32m     22\u001b[0m \u001b[1;33m\u001b[0m\u001b[0m\n\u001b[0;32m     23\u001b[0m \u001b[0mwarrior1\u001b[0m\u001b[1;33m.\u001b[0m\u001b[0muser\u001b[0m\u001b[1;33m.\u001b[0m\u001b[0memail\u001b[0m\u001b[1;33m\u001b[0m\u001b[1;33m\u001b[0m\u001b[0m\n",
      "\u001b[1;31mTypeError\u001b[0m: __init__() takes 4 positional arguments but 5 were given"
     ]
    }
   ],
   "source": [
    "class User(): # parent class\n",
    "    def __init__(self, name, email, ability):\n",
    "        self.name = name\n",
    "        self.email = email\n",
    "        self.ability = ability\n",
    "        \n",
    "    def sign_in(self):\n",
    "        print('signed in.')\n",
    "        \n",
    "class Warrior(User): #child class\n",
    "    def _init__(self, name, email, ability, user):\n",
    "        super().__init__(name, email, ability) # coping from first __init__ name and ability attribute \n",
    "        self.user = user\n",
    "        \n",
    "class Archer(User): # child class\n",
    "    def __init__(self, name, email):\n",
    "        super().__init__(name, email)\n",
    "\n",
    "user1 = User('ashley', 'ashley@gmail.com', 'shout')\n",
    "\n",
    "warrior1 = Warrior('Kratos', 'kratos@gmail.com', 'rage', user1)\n",
    "\n",
    "warrior1.user.email\n"
   ]
  },
  {
   "cell_type": "markdown",
   "metadata": {},
   "source": [
    "# Exercises"
   ]
  },
  {
   "cell_type": "markdown",
   "metadata": {},
   "source": [
    "### Exercise 1 - Turn the shopping cart program from yesterday into an object-oriented program\n",
    "\n",
    "The comments in the cell below are there as a guide for thinking about the problem. However, if you feel a different way is best for you and your own thought process, please do what feels best for you by all means."
   ]
  },
  {
   "cell_type": "code",
   "execution_count": 10,
   "metadata": {},
   "outputs": [
    {
     "name": "stdout",
     "output_type": "stream",
     "text": [
      "Milk was added to your cart.\n",
      "Bread was added to your cart.\n",
      "Chicken was added to your cart.\n",
      "Nuts was added to your cart.\n",
      "Nuts was removed from your cart. \n",
      "Your current cart contains...\n",
      "Number of items: 3\n",
      "Milk 2\n",
      "Bread 4\n",
      "Chicken 5\n",
      "Sorry, that item is not currently in your cart.\n",
      "That input is invail. Please try again...\n"
     ]
    }
   ],
   "source": [
    "# Create a class called cart that retains items and has methods to add, remove, and show\n",
    "\n",
    "class Cart():\n",
    "    def __init__(self):\n",
    "        self.current_cart = {}\n",
    "        self.number_of_items = 0\n",
    "        \n",
    "    \n",
    "    def add_to_cart(self):\n",
    "        item = input('What would you like to add? ').title()\n",
    "        price = input(f'How much is that {item}? ')\n",
    "        self.current_cart[item] = price\n",
    "        self.number_of_items += 1\n",
    "        \n",
    "        print(f'{item} was added to your cart.')\n",
    "\n",
    "    def remove_from_cart(self):\n",
    "        item = input('Which item would you like to remove? ').title()\n",
    "        if item in self.current_cart:\n",
    "            print(f'{item} was removed from your cart. ')\n",
    "            del self.current_cart[item]\n",
    "            self.number_of_items -= 1\n",
    "    \n",
    "        else:\n",
    "            print(\"Sorry, that item is not currently in your cart.\")\n",
    "\n",
    "    def show_cart(self):\n",
    "        print('Your current cart contains...')\n",
    "        print(f'Number of items: {self.number_of_items}')\n",
    "        for k,v in self.current_cart.items():\n",
    "            print(k,v)\n",
    "\n",
    "    def runner(self):\n",
    "        while True:\n",
    "            user_ = input('What would you like to do? (add, remove, show or quit)').lower()\n",
    "            if user_ == 'add':\n",
    "                self.add_to_cart()\n",
    "            elif user_ == 'remove':\n",
    "                self.remove_from_cart()\n",
    "            elif user_ == 'show':\n",
    "                self.show_cart()\n",
    "            elif user_ == 'quit':\n",
    "                break\n",
    "            else:\n",
    "                print('That input is invail. Please try again...')\n",
    "\n",
    "groceries = Cart()\n",
    "\n",
    "groceries.runner()\n"
   ]
  },
  {
   "cell_type": "markdown",
   "metadata": {},
   "source": [
    "### Exercise 2 - Write a Python class which has two methods get_String and print_String. get_String accept a string from the user and print_String print the string in upper case"
   ]
  },
  {
   "cell_type": "code",
   "execution_count": 35,
   "metadata": {},
   "outputs": [
    {
     "name": "stdout",
     "output_type": "stream",
     "text": [
      "HELLO THERE\n"
     ]
    }
   ],
   "source": [
    "class Createstring():\n",
    "\n",
    "    def __init__(self):\n",
    "        self.current_string = \"\"\n",
    "\n",
    "    def get_string(self):\n",
    "        string = input('What would you like to say? ')\n",
    "        self.current_string = string\n",
    "    \n",
    "    def print_string(self):\n",
    "        print(self.current_string.upper())\n",
    "\n",
    "    def runner(self):\n",
    "        while True:\n",
    "            user_choice = input('What would you like to do? (write, print, or quit').lower()\n",
    "            if user_choice == 'write':\n",
    "                self.get_string()\n",
    "            elif user_choice == 'print':\n",
    "                self.print_string()\n",
    "            elif user_choice == 'quit':\n",
    "                break\n",
    "            else:\n",
    "                print('Invalid response. Please try again...')\n",
    "    \n",
    "\n",
    "user = Createstring()\n",
    "\n",
    "user.runner()\n"
   ]
  },
  {
   "cell_type": "code",
   "execution_count": null,
   "metadata": {},
   "outputs": [],
   "source": []
  }
 ],
 "metadata": {
  "kernelspec": {
   "display_name": "Python 3.11.0 64-bit",
   "language": "python",
   "name": "python3"
  },
  "language_info": {
   "codemirror_mode": {
    "name": "ipython",
    "version": 3
   },
   "file_extension": ".py",
   "mimetype": "text/x-python",
   "name": "python",
   "nbconvert_exporter": "python",
   "pygments_lexer": "ipython3",
   "version": "3.11.0"
  },
  "vscode": {
   "interpreter": {
    "hash": "f287322dc3393845ae7b574212212ac6fdbe1236ead874358021b97cd1cc7c74"
   }
  }
 },
 "nbformat": 4,
 "nbformat_minor": 2
}
